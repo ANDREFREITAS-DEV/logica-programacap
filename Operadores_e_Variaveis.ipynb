{
  "nbformat": 4,
  "nbformat_minor": 0,
  "metadata": {
    "colab": {
      "provenance": [],
      "collapsed_sections": [
        "01Hcb8IvyIyc",
        "8c5mBUti3bIb",
        "mBjuQBEs5b-w",
        "Cn7EskBo6Nbt",
        "W61C5E0lB9jg"
      ]
    },
    "kernelspec": {
      "name": "python3",
      "display_name": "Python 3"
    },
    "language_info": {
      "name": "python"
    }
  },
  "cells": [
    {
      "cell_type": "markdown",
      "source": [
        "#Operadores Aritmeticos\n"
      ],
      "metadata": {
        "id": "01Hcb8IvyIyc"
      }
    },
    {
      "cell_type": "markdown",
      "source": [],
      "metadata": {
        "id": "7qwJGDCPx2lu"
      }
    },
    {
      "cell_type": "code",
      "source": [
        "[1]#Adição\n",
        "10+2"
      ],
      "metadata": {
        "id": "1I5EnEbkyosK",
        "colab": {
          "base_uri": "https://localhost:8080/"
        },
        "outputId": "acb475fc-2060-4028-d8c1-e968880209cf"
      },
      "execution_count": null,
      "outputs": [
        {
          "output_type": "execute_result",
          "data": {
            "text/plain": [
              "12"
            ]
          },
          "metadata": {},
          "execution_count": 35
        }
      ]
    },
    {
      "cell_type": "code",
      "source": [
        "[2]#Substração\n",
        "10-2"
      ],
      "metadata": {
        "id": "vGzvhwDDyo9z",
        "colab": {
          "base_uri": "https://localhost:8080/"
        },
        "outputId": "8be59944-714c-40fe-cc01-c0073b7aebcd"
      },
      "execution_count": null,
      "outputs": [
        {
          "output_type": "execute_result",
          "data": {
            "text/plain": [
              "8"
            ]
          },
          "metadata": {},
          "execution_count": 36
        }
      ]
    },
    {
      "cell_type": "code",
      "source": [
        "[3]#Multiplicação\n",
        "10*2"
      ],
      "metadata": {
        "id": "sN1FTnrEypQK",
        "colab": {
          "base_uri": "https://localhost:8080/"
        },
        "outputId": "a70ed3a2-1f1d-4e32-aa19-de4c3dda3271"
      },
      "execution_count": null,
      "outputs": [
        {
          "output_type": "execute_result",
          "data": {
            "text/plain": [
              "20"
            ]
          },
          "metadata": {},
          "execution_count": 37
        }
      ]
    },
    {
      "cell_type": "code",
      "source": [
        "#Divisão\n",
        "10/2"
      ],
      "metadata": {
        "id": "fXgLYFHAyzeM",
        "colab": {
          "base_uri": "https://localhost:8080/"
        },
        "outputId": "73402f20-cd1a-4acc-cfc6-d171c561eb39"
      },
      "execution_count": null,
      "outputs": [
        {
          "output_type": "execute_result",
          "data": {
            "text/plain": [
              "5.0"
            ]
          },
          "metadata": {},
          "execution_count": 38
        }
      ]
    },
    {
      "cell_type": "code",
      "source": [
        "#Divisão inteira\n",
        "10//2\n"
      ],
      "metadata": {
        "id": "O2C3rb2uy06Q",
        "colab": {
          "base_uri": "https://localhost:8080/"
        },
        "outputId": "25b2f650-2f6a-4191-eb6c-b9cf2510acfb"
      },
      "execution_count": null,
      "outputs": [
        {
          "output_type": "execute_result",
          "data": {
            "text/plain": [
              "5"
            ]
          },
          "metadata": {},
          "execution_count": 39
        }
      ]
    },
    {
      "cell_type": "code",
      "source": [
        "#Resto divisão\n",
        "10%2"
      ],
      "metadata": {
        "id": "ZTnMx8hBy0Zk",
        "colab": {
          "base_uri": "https://localhost:8080/"
        },
        "outputId": "479491e8-6eff-496e-fb5c-871f69c8df8c"
      },
      "execution_count": null,
      "outputs": [
        {
          "output_type": "execute_result",
          "data": {
            "text/plain": [
              "0"
            ]
          },
          "metadata": {},
          "execution_count": 40
        }
      ]
    },
    {
      "cell_type": "code",
      "source": [
        "#Pontenciação\n",
        "10**2"
      ],
      "metadata": {
        "id": "dCc8iG-SypjZ",
        "colab": {
          "base_uri": "https://localhost:8080/"
        },
        "outputId": "25b3aa5d-adbf-4945-a158-61ea0284c64d"
      },
      "execution_count": null,
      "outputs": [
        {
          "output_type": "execute_result",
          "data": {
            "text/plain": [
              "100"
            ]
          },
          "metadata": {},
          "execution_count": 41
        }
      ]
    },
    {
      "cell_type": "markdown",
      "source": [
        "#Operadores Relacionais"
      ],
      "metadata": {
        "id": "8c5mBUti3bIb"
      }
    },
    {
      "cell_type": "code",
      "source": [
        "#Menor\n",
        "10<2"
      ],
      "metadata": {
        "id": "vbVPblLNypyp",
        "colab": {
          "base_uri": "https://localhost:8080/"
        },
        "outputId": "56b85efb-b327-4faf-a811-d4a0e3853142"
      },
      "execution_count": null,
      "outputs": [
        {
          "output_type": "execute_result",
          "data": {
            "text/plain": [
              "False"
            ]
          },
          "metadata": {},
          "execution_count": 16
        }
      ]
    },
    {
      "cell_type": "code",
      "source": [
        "#Menor ou igual\n",
        "10<=2"
      ],
      "metadata": {
        "colab": {
          "base_uri": "https://localhost:8080/"
        },
        "id": "aEHgGFA74U5Z",
        "outputId": "ba800a35-9093-4190-fbc8-94d22d49e83b"
      },
      "execution_count": null,
      "outputs": [
        {
          "output_type": "execute_result",
          "data": {
            "text/plain": [
              "False"
            ]
          },
          "metadata": {},
          "execution_count": 21
        }
      ]
    },
    {
      "cell_type": "code",
      "source": [
        "#Maior\n",
        "10>2"
      ],
      "metadata": {
        "colab": {
          "base_uri": "https://localhost:8080/"
        },
        "id": "K37inmC44gKm",
        "outputId": "c4b8f1a5-b262-46e3-aca0-0ac0b69af36f"
      },
      "execution_count": null,
      "outputs": [
        {
          "output_type": "execute_result",
          "data": {
            "text/plain": [
              "True"
            ]
          },
          "metadata": {},
          "execution_count": 22
        }
      ]
    },
    {
      "cell_type": "code",
      "source": [
        "#Maior ou igual\n",
        "10>=2"
      ],
      "metadata": {
        "colab": {
          "base_uri": "https://localhost:8080/"
        },
        "id": "x7WKuDb444NW",
        "outputId": "de98c0f2-c4a7-4333-f25a-78ff43130832"
      },
      "execution_count": null,
      "outputs": [
        {
          "output_type": "execute_result",
          "data": {
            "text/plain": [
              "True"
            ]
          },
          "metadata": {},
          "execution_count": 23
        }
      ]
    },
    {
      "cell_type": "code",
      "source": [
        "#Igual\n",
        "7==7"
      ],
      "metadata": {
        "colab": {
          "base_uri": "https://localhost:8080/"
        },
        "id": "OV6BWZT75CQN",
        "outputId": "3932fb05-d13e-45c0-f8b4-fa747e08681c"
      },
      "execution_count": null,
      "outputs": [
        {
          "output_type": "execute_result",
          "data": {
            "text/plain": [
              "True"
            ]
          },
          "metadata": {},
          "execution_count": 29
        }
      ]
    },
    {
      "cell_type": "code",
      "source": [
        "#Diferente\n",
        "7!=7"
      ],
      "metadata": {
        "colab": {
          "base_uri": "https://localhost:8080/"
        },
        "id": "BV0JXVFu5Lu9",
        "outputId": "f23f0db3-ebbf-4f44-9048-16685363a310"
      },
      "execution_count": null,
      "outputs": [
        {
          "output_type": "execute_result",
          "data": {
            "text/plain": [
              "False"
            ]
          },
          "metadata": {},
          "execution_count": 28
        }
      ]
    },
    {
      "cell_type": "markdown",
      "source": [
        "#Operadores Logicos\n",
        "\n",
        "\n",
        "* And (é)\n",
        "* Or  (ou)\n",
        "* Not(não)\n",
        "\n",
        "\n"
      ],
      "metadata": {
        "id": "mBjuQBEs5b-w"
      }
    },
    {
      "cell_type": "markdown",
      "source": [
        "Tabela Verdade\n",
        "\n",
        "And"
      ],
      "metadata": {
        "id": "Cn7EskBo6Nbt"
      }
    },
    {
      "cell_type": "code",
      "source": [
        "print(10 > 2 and 4 < 6)       #v and v - v\n",
        "print(10 > 2 and 4 > 6)       #v and F - F\n",
        "print(10 < 2 and 4 < 4)       #V and F - F\n",
        "print(10 < 2 and 4 > 6)       #F and F - F"
      ],
      "metadata": {
        "colab": {
          "base_uri": "https://localhost:8080/"
        },
        "id": "KV9IBez46RLt",
        "outputId": "d7ec3815-4db3-4e74-f93e-7df5f603922d"
      },
      "execution_count": null,
      "outputs": [
        {
          "output_type": "stream",
          "name": "stdout",
          "text": [
            "True\n",
            "False\n",
            "False\n",
            "False\n"
          ]
        }
      ]
    },
    {
      "cell_type": "markdown",
      "source": [
        "Or"
      ],
      "metadata": {
        "id": "AHZ8y7iG7vHU"
      }
    },
    {
      "cell_type": "code",
      "source": [
        "print(10 > 2 or 4 < 6)      #V or V - V\n",
        "print(10 > 2 or 4 > 6)      #V or F - V\n",
        "print(10 < 2 or 4 < 6)      #V or F - V\n",
        "print(10 < 2 or 4 > 6)      #F or F - F"
      ],
      "metadata": {
        "colab": {
          "base_uri": "https://localhost:8080/"
        },
        "id": "KpTN9OUA5fyK",
        "outputId": "5f7298bf-c79a-4c29-8cc4-f368fcc84602"
      },
      "execution_count": null,
      "outputs": [
        {
          "output_type": "stream",
          "name": "stdout",
          "text": [
            "True\n",
            "True\n",
            "True\n",
            "False\n"
          ]
        }
      ]
    },
    {
      "cell_type": "markdown",
      "source": [
        "Not"
      ],
      "metadata": {
        "id": "OgdR7uRB8o7p"
      }
    },
    {
      "cell_type": "code",
      "source": [
        "not 10>2                    #V - F"
      ],
      "metadata": {
        "colab": {
          "base_uri": "https://localhost:8080/"
        },
        "id": "0aVgF69M8qVT",
        "outputId": "98427d19-c0a6-4e36-cfb2-ed88e38967c4"
      },
      "execution_count": null,
      "outputs": [
        {
          "output_type": "execute_result",
          "data": {
            "text/plain": [
              "False"
            ]
          },
          "metadata": {},
          "execution_count": 33
        }
      ]
    },
    {
      "cell_type": "code",
      "source": [
        "not 10<2                    #F - V"
      ],
      "metadata": {
        "colab": {
          "base_uri": "https://localhost:8080/"
        },
        "id": "ozVGJsVs7yAi",
        "outputId": "63ce4d87-38af-4546-b1e5-74f43288cd6d"
      },
      "execution_count": null,
      "outputs": [
        {
          "output_type": "execute_result",
          "data": {
            "text/plain": [
              "True"
            ]
          },
          "metadata": {},
          "execution_count": 34
        }
      ]
    },
    {
      "cell_type": "markdown",
      "source": [
        "#Variaveis"
      ],
      "metadata": {
        "id": "W61C5E0lB9jg"
      }
    },
    {
      "cell_type": "code",
      "source": [
        "#Nome da variavel é 'x' que armazena a valor 10 no espaço da memoria\n",
        "x=10\n",
        "print(x)        #Utilizar a refencia no nome da atribuição"
      ],
      "metadata": {
        "colab": {
          "base_uri": "https://localhost:8080/"
        },
        "id": "k1QtyDURCE_T",
        "outputId": "8879dace-0142-462f-953c-cc8ebc654ed4"
      },
      "execution_count": null,
      "outputs": [
        {
          "output_type": "stream",
          "name": "stdout",
          "text": [
            "10\n"
          ]
        }
      ]
    },
    {
      "cell_type": "code",
      "source": [
        "#Tipos de variaveis\n",
        "Int             #Inteiro        10\n",
        "float           #Real           10.5\n",
        "str             #String (texto) 'Rodrigo'\n",
        "bool            #Booleano\n"
      ],
      "metadata": {
        "colab": {
          "base_uri": "https://localhost:8080/"
        },
        "id": "KUEa06KkDEEG",
        "outputId": "66efd12c-f4fb-4f4e-fd2a-e2040334ac6d"
      },
      "execution_count": null,
      "outputs": [
        {
          "output_type": "execute_result",
          "data": {
            "text/plain": [
              "bool"
            ]
          },
          "metadata": {},
          "execution_count": 51
        }
      ]
    },
    {
      "cell_type": "markdown",
      "source": [],
      "metadata": {
        "id": "fGlstnaQEhWb"
      }
    },
    {
      "cell_type": "code",
      "source": [],
      "metadata": {
        "id": "csDtPsG8pCg8"
      },
      "execution_count": null,
      "outputs": []
    },
    {
      "cell_type": "code",
      "source": [
        "nome = input ('fgdfgdfg:')\n",
        "print(f'kjlkjkl{nome}')"
      ],
      "metadata": {
        "colab": {
          "base_uri": "https://localhost:8080/"
        },
        "id": "PD3f7etSpD-c",
        "outputId": "f5b9d036-6a6e-4341-9ce5-3ad5dbe44c4f"
      },
      "execution_count": null,
      "outputs": [
        {
          "output_type": "stream",
          "name": "stdout",
          "text": [
            "fgdfgdfg:adnre\n",
            "kjlkjkladnre\n"
          ]
        }
      ]
    },
    {
      "cell_type": "code",
      "source": [
        "nome_usuario = input (\"Por favor, insira seu nome:\")\n",
        "print (f\"Ola, {nome_usuario} ! Bem vindo ao nosso sistema.\")"
      ],
      "metadata": {
        "colab": {
          "base_uri": "https://localhost:8080/"
        },
        "id": "DSRV1Didwk0H",
        "outputId": "b27187f5-2485-471f-a3e1-42bb30db6b43"
      },
      "execution_count": null,
      "outputs": [
        {
          "output_type": "stream",
          "name": "stdout",
          "text": [
            "Por favor, insira seu nome:adnre\n",
            "Ola, adnre ! Bem vindo ao nosso sistema.\n"
          ]
        }
      ]
    },
    {
      "cell_type": "markdown",
      "source": [
        "#Visualização de Variaveis e Textos"
      ],
      "metadata": {
        "id": "z4_6vnoJEyOC"
      }
    },
    {
      "cell_type": "code",
      "source": [
        "nome = input ('fgdfgdfg:')\n",
        "print(f'kjlkjkl{nome}')"
      ],
      "metadata": {
        "colab": {
          "base_uri": "https://localhost:8080/"
        },
        "id": "REYInQ1Fyw_S",
        "outputId": "2b7531fd-4535-4efb-dcc3-a4c9aec5597a"
      },
      "execution_count": null,
      "outputs": [
        {
          "output_type": "stream",
          "name": "stdout",
          "text": [
            "fgdfgdfg:andre\n",
            "kjlkjklandre\n"
          ]
        }
      ]
    },
    {
      "cell_type": "code",
      "source": [
        "nome = input ('fgdfgdfg:')\n",
        "print(f'kjlkjkl{nome}')"
      ],
      "metadata": {
        "colab": {
          "base_uri": "https://localhost:8080/"
        },
        "id": "7rH3odyoy_vi",
        "outputId": "26733c32-586b-4e19-98e7-63509c4e4839"
      },
      "execution_count": null,
      "outputs": [
        {
          "output_type": "stream",
          "name": "stdout",
          "text": [
            "fgdfgdfg:andre\n",
            "kjlkjklandre\n"
          ]
        }
      ]
    },
    {
      "cell_type": "code",
      "source": [
        "nome = input ('Seu:')\n",
        "print(f'Seja Bem Vindo, {nome} em nosso sistema!')\n",
        "  #print(f'kjlkjkl{nome}')"
      ],
      "metadata": {
        "colab": {
          "base_uri": "https://localhost:8080/"
        },
        "id": "YE2MMdkszjIh",
        "outputId": "699b6b24-b146-4620-bb17-af3fc96808de"
      },
      "execution_count": null,
      "outputs": [
        {
          "output_type": "stream",
          "name": "stdout",
          "text": [
            "Seu:andre\n",
            "Seja Bem Vindo, andre em nosso sistema!\n"
          ]
        }
      ]
    },
    {
      "cell_type": "code",
      "source": [
        "nome = input ('Seu:')\n",
        "print(f'Seja Bem Vindo, {nome} em nosso sistema!')"
      ],
      "metadata": {
        "colab": {
          "base_uri": "https://localhost:8080/"
        },
        "id": "F7gOQKXU0tpA",
        "outputId": "364c986a-458e-4903-eb3e-2eb5af65ef24"
      },
      "execution_count": null,
      "outputs": [
        {
          "output_type": "stream",
          "name": "stdout",
          "text": [
            "Seu:Andre\n",
            "Seja Bem Vindo, Andre em nosso sistema!\n"
          ]
        }
      ]
    },
    {
      "cell_type": "code",
      "source": [
        "nome = input ('Seu:')\n",
        "print(f'Seja Bem Vindo, {nome} em nosso sistema!')\n"
      ],
      "metadata": {
        "colab": {
          "base_uri": "https://localhost:8080/"
        },
        "id": "k4wRbLUA1C7P",
        "outputId": "f8a304b9-85f2-46b7-8e54-429c9623cbe1"
      },
      "execution_count": null,
      "outputs": [
        {
          "output_type": "stream",
          "name": "stdout",
          "text": [
            "Seu:andre\n",
            "Seja Bem Vindo, andre em nosso sistema!\n"
          ]
        }
      ]
    },
    {
      "cell_type": "code",
      "source": [
        "idade inteira_usuario = int (input ('Por favor, insira sua idade:'))\n",
        "if idade_usuario >= 18:\n",
        "  print ('Voce é maior de idade')\n",
        "else :\n",
        "  print ('Voce é menor de idade')"
      ],
      "metadata": {
        "colab": {
          "base_uri": "https://localhost:8080/",
          "height": 106
        },
        "id": "1LCwHwbx1sT9",
        "outputId": "34f7bedd-0703-4f5b-eb31-01bb18193767"
      },
      "execution_count": null,
      "outputs": [
        {
          "output_type": "error",
          "ename": "SyntaxError",
          "evalue": "invalid syntax (<ipython-input-53-324a98469709>, line 1)",
          "traceback": [
            "\u001b[0;36m  File \u001b[0;32m\"<ipython-input-53-324a98469709>\"\u001b[0;36m, line \u001b[0;32m1\u001b[0m\n\u001b[0;31m    idade inteira_usuario = int (input ('Por favor, insira sua idade:'))\u001b[0m\n\u001b[0m          ^\u001b[0m\n\u001b[0;31mSyntaxError\u001b[0m\u001b[0;31m:\u001b[0m invalid syntax\n"
          ]
        }
      ]
    },
    {
      "cell_type": "code",
      "source": [
        "idade = int(input('Por favor, insira sua idade:')) # Changed inteira_usuario to idade for consistency\n",
        "if idade >= 18:\n",
        "    print('Voce é maior de idade') # Corrected indentation for if block\n",
        "else:\n",
        "    print('Voce é menor de idade') # Corrected indentation for else block, aligning with if"
      ],
      "metadata": {
        "colab": {
          "base_uri": "https://localhost:8080/"
        },
        "id": "Te8dWKpW4Bx7",
        "outputId": "59e52e67-a941-458a-fb11-a265da5438ba"
      },
      "execution_count": null,
      "outputs": [
        {
          "output_type": "stream",
          "name": "stdout",
          "text": [
            "Por favor, insira sua idade:20\n",
            "Voce é maior de idade\n"
          ]
        }
      ]
    }
  ]
}